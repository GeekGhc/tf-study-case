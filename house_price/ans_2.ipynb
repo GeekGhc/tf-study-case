{
 "cells": [
  {
   "cell_type": "code",
   "execution_count": 14,
   "metadata": {
    "collapsed": true,
    "ExecuteTime": {
     "end_time": "2023-05-07T13:35:43.340631Z",
     "start_time": "2023-05-07T13:35:43.333890Z"
    }
   },
   "outputs": [
    {
     "name": "stdout",
     "output_type": "stream",
     "text": [
      "(47, 3) <class 'numpy.ndarray'>\n",
      "(47, 1) <class 'numpy.ndarray'>\n"
     ]
    },
    {
     "data": {
      "text/plain": "<Figure size 640x480 with 0 Axes>"
     },
     "metadata": {},
     "output_type": "display_data"
    }
   ],
   "source": [
    "from mpl_toolkits import mplot3d\n",
    "import pandas as pd\n",
    "import matplotlib.pyplot as plt\n",
    "import numpy as np\n",
    "\n",
    "df1 = pd.read_csv('data1.csv', names=['square', 'bedrooms', 'price'])\n",
    "# df1.head()\n",
    "fig = plt.figure()\n",
    "\n",
    "\n",
    "# 绘制3d\n",
    "# ax = plt.axes(projection='3d')\n",
    "# ax.set_xlabel('square')\n",
    "# ax.set_ylabel('bedrooms')\n",
    "# ax.set_zlabel('price')\n",
    "# ax.scatter3D(df1['square'], df1['bedrooms'], df1['price'], c=df1['price'], cmap='Greens')\n",
    "\n",
    "\n",
    "# 数据归一化\n",
    "def normalize_feature(df):\n",
    "    return df.apply(lambda column: (column - column.mean()) / column.std())\n",
    "\n",
    "\n",
    "df = normalize_feature(df1)\n",
    "ax = plt.axes(projection='3d')\n",
    "ax.set_xlabel('square')\n",
    "ax.set_ylabel('bedrooms')\n",
    "ax.set_zlabel('price')\n",
    "ax.scatter3D(df['square'], df['bedrooms'], df['price'], c=df['price'], cmap='Reds')\n",
    "\n",
    "# 数据处理\n",
    "ones = pd.DataFrame({'ones': np.ones(len(df))})  #ones是n行1列的数据框，表示X0恒为1\n",
    "df = pd.concat([ones, df], axis=1)  #根据列合并数据\n",
    "\n",
    "X_data = np.array(df[df.columns[0:3]])\n",
    "Y_data = np.array(df[df.columns[-1]]).reshape(len(df), 1)\n",
    "\n",
    "print(X_data.shape, type(X_data))\n",
    "print(Y_data.shape, type(Y_data))\n",
    "\n"
   ]
  }
 ],
 "metadata": {
  "kernelspec": {
   "display_name": "Python 3",
   "language": "python",
   "name": "python3"
  },
  "language_info": {
   "codemirror_mode": {
    "name": "ipython",
    "version": 2
   },
   "file_extension": ".py",
   "mimetype": "text/x-python",
   "name": "python",
   "nbconvert_exporter": "python",
   "pygments_lexer": "ipython2",
   "version": "2.7.6"
  }
 },
 "nbformat": 4,
 "nbformat_minor": 0
}

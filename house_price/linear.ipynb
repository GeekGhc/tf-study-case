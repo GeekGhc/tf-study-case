{
 "cells": [
  {
   "cell_type": "code",
   "execution_count": null,
   "metadata": {
    "collapsed": true
   },
   "outputs": [],
   "source": [
    "import tensorflow as tf\n",
    "\n",
    "alpha = 0.01  # 学习率alpha\n",
    "epoch = 500  # 训练全量数据集的轮数\n",
    "\n",
    "# 创建线性回归模型(数据流图)\n",
    "# 输入X，形状[47,3]\n",
    "X = tf.placeholder(tf.float32, X_data.shape)\n",
    "# 输出Y，形状[47,1]\n",
    "Y = tf.placeholder(tf.float32, Y_data.shape)\n",
    "\n",
    "# 权重变量W，形状[3,1]\n",
    "W = tf.get_variable(\"weights\", (X_data.shape[1], 1), initializer=tf.constant_initializer())\n",
    "\n",
    "# 假设函数 h(x) = w0*x0+w1*x1+w2*x2,其中x0恒为1\n",
    "# 推理值 y_pred，形状[47,1]\n",
    "y_pred = tf.matmul(X, W)\n",
    "\n",
    "# 损失函数采用最小二乘法，y_pred - y 是形如[47,1]的向量\n",
    "# tf.matmul(a,b,transpose_a=True) 表示矩阵a的转置矩阵b 即[1,47] X [47,1]\n",
    "# 损失函数操作loss\n",
    "loss_op = 1 / (2 * len(X_data)) * tf.matmul((y_pred - y), (y_pred - y), transpose_a=True)\n",
    "# 随机梯度下降优化器\n",
    "opt = tf.train.GradientDescentimizer(learning_rate=alpha)\n",
    "# 单步训练操作 train_op\n",
    "train_op = opt.minimize(loss_op)\n"
   ]
  }
 ],
 "metadata": {
  "kernelspec": {
   "display_name": "Python 3",
   "language": "python",
   "name": "python3"
  },
  "language_info": {
   "codemirror_mode": {
    "name": "ipython",
    "version": 2
   },
   "file_extension": ".py",
   "mimetype": "text/x-python",
   "name": "python",
   "nbconvert_exporter": "python",
   "pygments_lexer": "ipython2",
   "version": "2.7.6"
  }
 },
 "nbformat": 4,
 "nbformat_minor": 0
}
